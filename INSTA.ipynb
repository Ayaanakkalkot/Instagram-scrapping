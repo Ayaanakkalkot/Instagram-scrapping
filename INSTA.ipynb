{
 "cells": [
  {
   "cell_type": "code",
   "execution_count": 1,
   "id": "e812c354-2679-4075-a864-bc35a0021b67",
   "metadata": {},
   "outputs": [
    {
     "name": "stdout",
     "output_type": "stream",
     "text": [
      "Requirement already satisfied: instaloader in c:\\5th sem\\python course\\anaconda\\lib\\site-packages (4.12)\n",
      "Requirement already satisfied: requests>=2.4 in c:\\5th sem\\python course\\anaconda\\lib\\site-packages (from instaloader) (2.31.0)\n",
      "Requirement already satisfied: charset-normalizer<4,>=2 in c:\\5th sem\\python course\\anaconda\\lib\\site-packages (from requests>=2.4->instaloader) (2.0.4)\n",
      "Requirement already satisfied: idna<4,>=2.5 in c:\\5th sem\\python course\\anaconda\\lib\\site-packages (from requests>=2.4->instaloader) (3.4)\n",
      "Requirement already satisfied: urllib3<3,>=1.21.1 in c:\\5th sem\\python course\\anaconda\\lib\\site-packages (from requests>=2.4->instaloader) (2.0.7)\n",
      "Requirement already satisfied: certifi>=2017.4.17 in c:\\5th sem\\python course\\anaconda\\lib\\site-packages (from requests>=2.4->instaloader) (2024.6.2)\n",
      "Requirement already satisfied: pip in c:\\5th sem\\python course\\anaconda\\lib\\site-packages (24.1.2)\n"
     ]
    }
   ],
   "source": [
    "!pip install instaloader\n",
    "!pip install --upgrade pip\n"
   ]
  },
  {
   "cell_type": "code",
   "execution_count": 2,
   "id": "9eb903a1-09e2-4add-b05b-7a41115e62ed",
   "metadata": {},
   "outputs": [],
   "source": [
    "import pandas as pd"
   ]
  },
  {
   "cell_type": "code",
   "execution_count": 5,
   "id": "355a36ac-3480-41a7-a63c-7eaa9a254c84",
   "metadata": {},
   "outputs": [
    {
     "name": "stdin",
     "output_type": "stream",
     "text": [
      "Enter your Instagram username:  _rx._lover_\n",
      "Enter your Instagram password:  jk12345\n",
      "Enter Instagram usernames to scrape (comma-separated):  ayaanu57\n"
     ]
    },
    {
     "name": "stdout",
     "output_type": "stream",
     "text": [
      "Data saved to instagram_profiles_data.csv\n"
     ]
    },
    {
     "data": {
      "image/png": "[encoded data removed]",
      "text/plain": [
       "<Figure size 1000x500 with 1 Axes>"
      ]
     },
     "metadata": {},
     "output_type": "display_data"
    }
   ],
   "source": [
    "import instaloader\n",
    "import csv\n",
    "import matplotlib.pyplot as plt\n",
    "\n",
    "# Initialize instaloader\n",
    "L = instaloader.Instaloader()\n",
    "\n",
    "# Login or load session\n",
    "username = input(\"Enter your Instagram username: \")\n",
    "password = input(\"Enter your Instagram password: \")\n",
    "\n",
    "# Login using credentials\n",
    "L.login(username, password)\n",
    "\n",
    "# Ask for the Instagram profiles to scrape\n",
    "profile_usernames = input(\"Enter Instagram usernames to scrape (comma-separated): \").split(',')\n",
    "\n",
    "# Prepare data storage\n",
    "profiles_data = []\n",
    "\n",
    "for profile_username in profile_usernames:\n",
    "    # Load profile\n",
    "    profile = instaloader.Profile.from_username(L.context, profile_username.strip())\n",
    "\n",
    "    # Collect profile information\n",
    "    profile_info = {\n",
    "        \"account_name\": profile.username,\n",
    "        \"followers_count\": profile.followers,\n",
    "        \"following_count\": profile.followees,\n",
    "        \"is_private\": profile.is_private,\n",
    "        \"is_verified\": profile.is_verified\n",
    "    }\n",
    "\n",
    "    # Store profile data\n",
    "    profiles_data.append(profile_info)\n",
    "\n",
    "# Specify CSV file name\n",
    "csv_file = \"instagram_profiles_data.csv\"\n",
    "\n",
    "# Write to CSV file\n",
    "with open(csv_file, mode='w', newline='') as file:\n",
    "    writer = csv.DictWriter(file, fieldnames=profiles_data[0].keys())\n",
    "    writer.writeheader()\n",
    "    writer.writerows(profiles_data)\n",
    "\n",
    "print(f\"Data saved to {csv_file}\")\n",
    "\n",
    "# Extract data for plotting\n",
    "account_names = [profile['account_name'] for profile in profiles_data]\n",
    "followers_counts = [profile['followers_count'] for profile in profiles_data]\n",
    "following_counts = [profile['following_count'] for profile in profiles_data]\n",
    "\n",
    "# Plot the data\n",
    "plt.figure(figsize=(10, 5))\n",
    "\n",
    "plt.bar(account_names, followers_counts, color='b', alpha=0.6, label='Followers')\n",
    "plt.bar(account_names, following_counts, color='r', alpha=0.6, label='Following', bottom=followers_counts)\n",
    "\n",
    "plt.xlabel('Account Name')\n",
    "plt.ylabel('Count')\n",
    "plt.title('Instagram Followers and Following Count')\n",
    "plt.legend()\n",
    "\n",
    "plt.xticks(rotation=45)\n",
    "plt.tight_layout()\n",
    "\n",
    "plt.show()\n"
   ]
  },
  {
   "cell_type": "code",
   "execution_count": 7,
   "id": "a9c3260d-f9c8-47a9-bafc-2d8cddd6d661",
   "metadata": {},
   "outputs": [
    {
     "data": {
      "text/html": [
       "<div>\n",
       "<style scoped>\n",
       "    .dataframe tbody tr th:only-of-type {\n",
       "        vertical-align: middle;\n",
       "    }\n",
       "\n",
       "    .dataframe tbody tr th {\n",
       "        vertical-align: top;\n",
       "    }\n",
       "\n",
       "    .dataframe thead th {\n",
       "        text-align: right;\n",
       "    }\n",
       "</style>\n",
       "<table border=\"1\" class=\"dataframe\">\n",
       "  <thead>\n",
       "    <tr style=\"text-align: right;\">\n",
       "      <th></th>\n",
       "      <th>account_name</th>\n",
       "      <th>followers_count</th>\n",
       "      <th>following_count</th>\n",
       "      <th>is_private</th>\n",
       "      <th>is_verified</th>\n",
       "    </tr>\n",
       "  </thead>\n",
       "  <tbody>\n",
       "    <tr>\n",
       "      <th>0</th>\n",
       "      <td>ayaanu57</td>\n",
       "      <td>40</td>\n",
       "      <td>44</td>\n",
       "      <td>True</td>\n",
       "      <td>False</td>\n",
       "    </tr>\n",
       "  </tbody>\n",
       "</table>\n",
       "</div>"
      ],
      "text/plain": [
       "  account_name  followers_count  following_count  is_private  is_verified\n",
       "0     ayaanu57               40               44        True        False"
      ]
     },
     "execution_count": 7,
     "metadata": {},
     "output_type": "execute_result"
    }
   ],
   "source": [
    "d = pd.read_csv(\"instagram_profiles_data.csv\")\n",
    "d"
   ]
  },
  {
   "cell_type": "code",
   "execution_count": null,
   "id": "c0bc7a5d-0719-42a3-b3c9-e1cf9e57ce7a",
   "metadata": {},
   "outputs": [],
   "source": []
  }
 ],
 "metadata": {
  "kernelspec": {
   "display_name": "Python 3 (ipykernel)",
   "language": "python",
   "name": "python3"
  },
  "language_info": {
   "codemirror_mode": {
    "name": "ipython",
    "version": 3
   },
   "file_extension": ".py",
   "mimetype": "text/x-python",
   "name": "python",
   "nbconvert_exporter": "python",
   "pygments_lexer": "ipython3",
   "version": "3.11.7"
  }
 },
 "nbformat": 4,
 "nbformat_minor": 5
}
